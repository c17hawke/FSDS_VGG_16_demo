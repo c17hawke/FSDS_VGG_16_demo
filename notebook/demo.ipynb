{
 "cells": [
  {
   "cell_type": "code",
   "execution_count": 1,
   "id": "7c167a27",
   "metadata": {},
   "outputs": [],
   "source": [
    "import tensorflow as tf\n",
    "import os\n",
    "from pathlib import Path\n",
    "import urllib.request as request\n",
    "import numpy as np\n",
    "import matplotlib.pyplot as plt\n"
   ]
  },
  {
   "cell_type": "code",
   "execution_count": null,
   "id": "55995ca9",
   "metadata": {},
   "outputs": [],
   "source": [
    "IMAGE_SIZE = (224, 224)"
   ]
  },
  {
   "cell_type": "code",
   "execution_count": 2,
   "id": "52b4b59c",
   "metadata": {},
   "outputs": [],
   "source": [
    "model = tf.keras.applications.VGG16(\n",
    "    include_top=True, weights=\"imagenet\", input_tensor=None, input_shape=None, classes=1000 \n",
    ")"
   ]
  },
  {
   "cell_type": "code",
   "execution_count": 3,
   "id": "3b6c0877",
   "metadata": {},
   "outputs": [
    {
     "name": "stdout",
     "output_type": "stream",
     "text": [
      "Model: \"vgg16\"\n",
      "_________________________________________________________________\n",
      " Layer (type)                Output Shape              Param #   \n",
      "=================================================================\n",
      " input_1 (InputLayer)        [(None, 224, 224, 3)]     0         \n",
      "                                                                 \n",
      " block1_conv1 (Conv2D)       (None, 224, 224, 64)      1792      \n",
      "                                                                 \n",
      " block1_conv2 (Conv2D)       (None, 224, 224, 64)      36928     \n",
      "                                                                 \n",
      " block1_pool (MaxPooling2D)  (None, 112, 112, 64)      0         \n",
      "                                                                 \n",
      " block2_conv1 (Conv2D)       (None, 112, 112, 128)     73856     \n",
      "                                                                 \n",
      " block2_conv2 (Conv2D)       (None, 112, 112, 128)     147584    \n",
      "                                                                 \n",
      " block2_pool (MaxPooling2D)  (None, 56, 56, 128)       0         \n",
      "                                                                 \n",
      " block3_conv1 (Conv2D)       (None, 56, 56, 256)       295168    \n",
      "                                                                 \n",
      " block3_conv2 (Conv2D)       (None, 56, 56, 256)       590080    \n",
      "                                                                 \n",
      " block3_conv3 (Conv2D)       (None, 56, 56, 256)       590080    \n",
      "                                                                 \n",
      " block3_pool (MaxPooling2D)  (None, 28, 28, 256)       0         \n",
      "                                                                 \n",
      " block4_conv1 (Conv2D)       (None, 28, 28, 512)       1180160   \n",
      "                                                                 \n",
      " block4_conv2 (Conv2D)       (None, 28, 28, 512)       2359808   \n",
      "                                                                 \n",
      " block4_conv3 (Conv2D)       (None, 28, 28, 512)       2359808   \n",
      "                                                                 \n",
      " block4_pool (MaxPooling2D)  (None, 14, 14, 512)       0         \n",
      "                                                                 \n",
      " block5_conv1 (Conv2D)       (None, 14, 14, 512)       2359808   \n",
      "                                                                 \n",
      " block5_conv2 (Conv2D)       (None, 14, 14, 512)       2359808   \n",
      "                                                                 \n",
      " block5_conv3 (Conv2D)       (None, 14, 14, 512)       2359808   \n",
      "                                                                 \n",
      " block5_pool (MaxPooling2D)  (None, 7, 7, 512)         0         \n",
      "                                                                 \n",
      " flatten (Flatten)           (None, 25088)             0         \n",
      "                                                                 \n",
      " fc1 (Dense)                 (None, 4096)              102764544 \n",
      "                                                                 \n",
      " fc2 (Dense)                 (None, 4096)              16781312  \n",
      "                                                                 \n",
      " predictions (Dense)         (None, 1000)              4097000   \n",
      "                                                                 \n",
      "=================================================================\n",
      "Total params: 138,357,544\n",
      "Trainable params: 138,357,544\n",
      "Non-trainable params: 0\n",
      "_________________________________________________________________\n"
     ]
    }
   ],
   "source": [
    "model.summary()"
   ]
  },
  {
   "cell_type": "code",
   "execution_count": 5,
   "id": "37ca1abb",
   "metadata": {},
   "outputs": [
    {
     "name": "stdout",
     "output_type": "stream",
     "text": [
      "WARNING:tensorflow:Compiled the loaded model, but the compiled metrics have yet to be built. `model.compile_metrics` will be empty until you train or evaluate the model.\n"
     ]
    }
   ],
   "source": [
    "model.save(\"VGG16_full_model.h5\")"
   ]
  },
  {
   "cell_type": "code",
   "execution_count": 6,
   "id": "901db62e",
   "metadata": {},
   "outputs": [
    {
     "data": {
      "text/plain": [
       "'same'"
      ]
     },
     "execution_count": 6,
     "metadata": {},
     "output_type": "execute_result"
    }
   ],
   "source": [
    "model.layers[1].padding"
   ]
  },
  {
   "cell_type": "code",
   "execution_count": 7,
   "id": "77445800",
   "metadata": {},
   "outputs": [
    {
     "name": "stdout",
     "output_type": "stream",
     "text": [
      "data directory created\n",
      "downloading data...\n",
      "filename: data\\data.zip created with info \n",
      "Content-Type: application/zip\n",
      "Content-Length: 47286322\n",
      "Connection: close\n",
      "Last-Modified: Wed, 15 Mar 2017 18:46:00 GMT\n",
      "x-amz-version-id: null\n",
      "Accept-Ranges: bytes\n",
      "Server: AmazonS3\n",
      "Date: Sun, 27 Mar 2022 11:43:27 GMT\n",
      "ETag: \"5f8c32a6554f6acb4d649776e7735e48\"\n",
      "X-Cache: RefreshHit from cloudfront\n",
      "Via: 1.1 d3a6e75206bb22a965cd89aa502420d0.cloudfront.net (CloudFront)\n",
      "X-Amz-Cf-Pop: MAA51-C2\n",
      "X-Amz-Cf-Id: vkG-iXiEmajh0Jhh8Ox95cXF-LwXNWeorbKxIeP3mNBuwO-wc9KX2A==\n",
      "\n",
      "\n"
     ]
    }
   ],
   "source": [
    "data_URL = \"https://download.pytorch.org/tutorial/hymenoptera_data.zip\"\n",
    "\n",
    "# create a directory\n",
    "def create_dirs(dir_path):\n",
    "    os.makedirs(dir_path, exist_ok=True)\n",
    "    print(f\"{dir_path} directory created\")\n",
    "    \n",
    "ROOT_DATA_DIR = \"data\"\n",
    "create_dirs(ROOT_DATA_DIR)\n",
    "\n",
    "\n",
    "data_zip_file = \"data.zip\"\n",
    "data_zip_path = os.path.join(ROOT_DATA_DIR, data_zip_file)\n",
    "\n",
    "if not os.path.isfile(data_zip_file):\n",
    "    print(\"downloading data...\")\n",
    "    filename, headers = request.urlretrieve(data_URL, data_zip_path)\n",
    "    print(f\"filename: {filename} created with info \\n{headers}\")\n",
    "else:\n",
    "    print(f\"file is already present\")"
   ]
  },
  {
   "cell_type": "code",
   "execution_count": 8,
   "id": "88a50aa3",
   "metadata": {},
   "outputs": [],
   "source": [
    "from zipfile import ZipFile\n",
    "\n",
    "unzip_data_dirname = \"unzip_data_dir\"\n",
    "unzip_data_dir = os.path.join(ROOT_DATA_DIR, unzip_data_dirname)\n",
    "\n",
    "if not os.path.exists(unzip_data_dir):\n",
    "    os.makedirs(unzip_data_dir, exist_ok=True)\n",
    "    with ZipFile(data_zip_path) as f:\n",
    "        f.extractall(unzip_data_dir)\n",
    "else:\n",
    "    print(f\"data already extacted\")"
   ]
  },
  {
   "cell_type": "code",
   "execution_count": null,
   "id": "1eed2641",
   "metadata": {},
   "outputs": [],
   "source": []
  }
 ],
 "metadata": {
  "kernelspec": {
   "display_name": "Python 3 (ipykernel)",
   "language": "python",
   "name": "python3"
  },
  "language_info": {
   "codemirror_mode": {
    "name": "ipython",
    "version": 3
   },
   "file_extension": ".py",
   "mimetype": "text/x-python",
   "name": "python",
   "nbconvert_exporter": "python",
   "pygments_lexer": "ipython3",
   "version": "3.7.11"
  }
 },
 "nbformat": 4,
 "nbformat_minor": 5
}
